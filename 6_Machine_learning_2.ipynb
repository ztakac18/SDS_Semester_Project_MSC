{
  "nbformat": 4,
  "nbformat_minor": 0,
  "metadata": {
    "accelerator": "GPU",
    "colab": {
      "name": "6. Machine-learning-2.ipynb",
      "provenance": [],
      "collapsed_sections": [],
      "toc_visible": true,
      "include_colab_link": true
    },
    "kernelspec": {
      "display_name": "Python 3",
      "name": "python3"
    }
  },
  "cells": [
    {
      "cell_type": "markdown",
      "metadata": {
        "id": "view-in-github",
        "colab_type": "text"
      },
      "source": [
        "<a href=\"https://colab.research.google.com/github/AnnaBujniewicz/semester_project/blob/main/6_Machine_learning_2.ipynb\" target=\"_parent\"><img src=\"https://colab.research.google.com/assets/colab-badge.svg\" alt=\"Open In Colab\"/></a>"
      ]
    },
    {
      "cell_type": "markdown",
      "metadata": {
        "id": "LkC1bBzAyGLR"
      },
      "source": [
        "# Initial steps"
      ]
    },
    {
      "cell_type": "code",
      "metadata": {
        "id": "KJnH3qVStGda"
      },
      "source": [
        "# importing the needed packages\n",
        "!pip install transformers &> /dev/null\n",
        "!pip install yfinance &> /dev/null\n",
        "!pip install bert-for-tf2 &> /dev/null\n",
        "import bert\n",
        "import os\n",
        "import tensorflow_hub as hub\n",
        "import pandas as pd\n",
        "import matplotlib.pyplot as plt\n",
        "import seaborn as sns\n",
        "import sklearn.metrics as metrics\n",
        "import numpy as np\n",
        "from sklearn.preprocessing import MinMaxScaler\n",
        "from keras.models import Sequential\n",
        "from keras import optimizers\n",
        "from keras.callbacks import EarlyStopping\n",
        "from tensorflow import keras\n",
        "from tensorflow.keras import layers\n",
        "import warnings\n",
        "import seaborn as sns\n",
        "from sklearn.model_selection import train_test_split\n",
        "from keras.preprocessing.text import Tokenizer\n",
        "from sklearn.preprocessing import LabelEncoder\n",
        "from sklearn.metrics import confusion_matrix, classification_report\n",
        "from keras.utils import np_utils\n",
        "import gensim\n",
        "from nltk.stem import WordNetLemmatizer\n",
        "import nltk\n",
        "nltk.download('stopwords')\n",
        "from nltk.corpus import stopwords\n",
        "from datetime import datetime\n",
        "nltk.download('wordnet')\n",
        "warnings.filterwarnings('ignore')\n",
        "from collections import Counter\n",
        "import itertools\n",
        "from nltk.tokenize import word_tokenize\n",
        "nltk.download('punkt')\n",
        "from keras import backend as K\n",
        "from transformers import BertTokenizer\n",
        "import torch\n",
        "import re\n",
        "import tensorflow as tf"
      ],
      "execution_count": null,
      "outputs": []
    },
    {
      "cell_type": "markdown",
      "metadata": {
        "id": "ev6v54sjaO5N"
      },
      "source": [
        "# 1 Preparing data for the models"
      ]
    },
    {
      "cell_type": "markdown",
      "metadata": {
        "id": "jKPWRpiWabWr"
      },
      "source": [
        "## 1.1 Cleaning and exploring the sentiment analysis dataset"
      ]
    },
    {
      "cell_type": "code",
      "metadata": {
        "id": "ByfjoDZ2aiGp"
      },
      "source": [
        "# loading in the dataframe for sentiment analysis\r\n",
        "sent_df = pd.read_csv(\"https://raw.githubusercontent.com/AnnaBujniewicz/semester_project/main/data/sentiment_data.csv\", header = 0, names = [\"sentiment\", \"title\"], encoding = \"latin-1\")"
      ],
      "execution_count": null,
      "outputs": []
    },
    {
      "cell_type": "code",
      "metadata": {
        "id": "nBZvENDxcIro"
      },
      "source": [
        "# inspecting the dataframe\r\n",
        "sent_df.head()"
      ],
      "execution_count": null,
      "outputs": []
    },
    {
      "cell_type": "code",
      "metadata": {
        "id": "bkVs_6RscLzM"
      },
      "source": [
        "# inspecting the classes\n",
        "# they are rather unbalanced\n",
        "plt.figure(figsize=(12,8))\n",
        "sns.barplot(x=pd.DataFrame(sent_df[\"sentiment\"].value_counts()).index,y=pd.DataFrame(sent_df[\"sentiment\"].value_counts())[\"sentiment\"], palette = \"winter\")\n",
        "plt.show()"
      ],
      "execution_count": null,
      "outputs": []
    },
    {
      "cell_type": "code",
      "metadata": {
        "id": "8BWSHnKCkrLf"
      },
      "source": [
        "# initiating a lemmatizer instance\n",
        "lemmatizer = WordNetLemmatizer()\n",
        "# making a list of stopwords\n",
        "stop_words = set(stopwords.words('english'))\n",
        "# making a function that lemmatizes the titles and then puts them together\n",
        "def sneaky_cleanup(title):\n",
        "  tokens = []\n",
        "  for token in title.split():\n",
        "    if token not in stop_words:\n",
        "      if token.isalnum():\n",
        "        tokens.append(lemmatizer.lemmatize(token))\n",
        "  return \" \".join(tokens)"
      ],
      "execution_count": null,
      "outputs": []
    },
    {
      "cell_type": "code",
      "metadata": {
        "id": "rhYd6Fd2kuBs"
      },
      "source": [
        "# applying the lemmatizer to each row of the dataframe\n",
        "sent_df.title = sent_df.title.apply(lambda x: sneaky_cleanup(x))\n",
        "sent_df.head()"
      ],
      "execution_count": null,
      "outputs": []
    },
    {
      "cell_type": "markdown",
      "metadata": {
        "id": "ZE6hW-tABRf1"
      },
      "source": [
        "We decided that cleaning up the text before applying a machine learning model would be beneficial. We lemmatized the words, removed the stopwords and interpunctions.\r\n",
        "\r\n",
        "We chose lemmatization over stemming as it preserves the original meaning of a word better - lemmatiztion changes the word to its lemma (base of the word), whereas stemming simply cuts off the ending.\r\n",
        "\r\n",
        "The stopwords and interpunctions were removed despite their potential importance for the context, as they typically don't improve performance in the case of sentiment analysis, as the model only needs to classify the titles into the category of positive, negative and neutral ones.\r\n"
      ]
    },
    {
      "cell_type": "code",
      "metadata": {
        "id": "OOKksXH1g-a8"
      },
      "source": [
        "# creating three new dataframes for the three sentiments\n",
        "sent_pos=sent_df[sent_df[\"sentiment\"] == \"positive\"]\n",
        "sent_neg=sent_df[sent_df[\"sentiment\"] == \"negative\"]\n",
        "sent_neu=sent_df[sent_df[\"sentiment\"] == \"neutral\"]\n",
        "# tokenizing the titles in the dataframes\n",
        "sent_pos[\"title\"]=sent_pos[\"title\"].apply(lambda x: word_tokenize(x))\n",
        "sent_neg[\"title\"]=sent_neg[\"title\"].apply(lambda x: word_tokenize(x))\n",
        "sent_neu[\"title\"]=sent_neu[\"title\"].apply(lambda x: word_tokenize(x))"
      ],
      "execution_count": null,
      "outputs": []
    },
    {
      "cell_type": "code",
      "metadata": {
        "id": "xrhOH2mZgS4X"
      },
      "source": [
        "# finding the most popular words in the negative titles\r\n",
        "Counter(itertools.chain(*sent_neg[\"title\"])).most_common(10)"
      ],
      "execution_count": null,
      "outputs": []
    },
    {
      "cell_type": "code",
      "metadata": {
        "id": "fBZUThcChidp"
      },
      "source": [
        "# finding the most popular words in the neutral titles\r\n",
        "Counter(itertools.chain(*sent_neu[\"title\"])).most_common(10)"
      ],
      "execution_count": null,
      "outputs": []
    },
    {
      "cell_type": "code",
      "metadata": {
        "id": "EDf1EZIXhjDc"
      },
      "source": [
        "# finding the most popular words in the positive titles\r\n",
        "Counter(itertools.chain(*sent_pos[\"title\"])).most_common(10)"
      ],
      "execution_count": null,
      "outputs": []
    },
    {
      "cell_type": "markdown",
      "metadata": {
        "id": "w9F35rHxCkiR"
      },
      "source": [
        "As can be seen, the words in all the titles are very similar, showing how difficult the task of predicting the sentiment will be."
      ]
    },
    {
      "cell_type": "code",
      "metadata": {
        "id": "E8uREb2wfXw0"
      },
      "source": [
        "# inspecting the length of the titles - the longest title is just above 40 words\n",
        "sent_df[\"words\"] = sent_df[\"title\"].map(lambda x: len(x.split()))\n",
        "sent_df[\"words\"].describe()"
      ],
      "execution_count": null,
      "outputs": []
    },
    {
      "cell_type": "code",
      "metadata": {
        "id": "GtyWv1bWje52"
      },
      "source": [
        "# creating a series of all the sentiments\n",
        "y = sent_df[\"sentiment\"]\n",
        "# creating a labelencoder instance\n",
        "labelencoder_y = LabelEncoder()\n",
        "# encoding the sentiments\n",
        "y = labelencoder_y.fit_transform(y)\n",
        "# changing the sentiments to one-hot encoding\n",
        "y = np_utils.to_categorical(y)"
      ],
      "execution_count": null,
      "outputs": []
    },
    {
      "cell_type": "code",
      "metadata": {
        "id": "GMwsCTs1gI1r"
      },
      "source": [
        "# creating training and testing samples\r\n",
        "X_train, X_test, y_train, y_test = train_test_split(sent_df[\"title\"], y, test_size = 0.2, random_state = 44)\r\n",
        "X_test_initial = X_test"
      ],
      "execution_count": null,
      "outputs": []
    },
    {
      "cell_type": "markdown",
      "metadata": {
        "id": "h9y-AAhjVBck"
      },
      "source": [
        "## 1.2 Preparing the dataset for transformers use and creating transformers layer"
      ]
    },
    {
      "cell_type": "code",
      "metadata": {
        "id": "I1hyVCFsZkP0"
      },
      "source": [
        "# initiating a bert tokenizer\r\n",
        "tokenizer = BertTokenizer.from_pretrained('bert-base-uncased', do_lower_case=True)"
      ],
      "execution_count": null,
      "outputs": []
    },
    {
      "cell_type": "code",
      "metadata": {
        "id": "Aped6vXXZqCs"
      },
      "source": [
        "# using a slightly modified pre-made function that partially processes the data for bert\r\n",
        "# the function runs on torch, not tensorflow, so the outputs will need to be turned into numpy arrays\r\n",
        "def preprocessing_for_bert(data):\r\n",
        "    \"\"\"Perform required preprocessing steps for pretrained BERT.\r\n",
        "    @param    data (np.array): Array of texts to be processed.\r\n",
        "    @return   input_ids (torch.Tensor): Tensor of token ids to be fed to a model.\r\n",
        "    @return   attention_masks (torch.Tensor): Tensor of indices specifying which\r\n",
        "                  tokens should be attended to by the model.\r\n",
        "    \"\"\"\r\n",
        "    # Create empty lists to store outputs\r\n",
        "    input_ids = []\r\n",
        "    attention_masks = []\r\n",
        "\r\n",
        "    # For every sentence...\r\n",
        "    for sent in data:\r\n",
        "        # `encode_plus` will:\r\n",
        "        #    (1) Tokenize the sentence\r\n",
        "        #    (2) Add the `[CLS]` and `[SEP]` token to the start and end\r\n",
        "        #    (3) Truncate/Pad sentence to max length\r\n",
        "        #    (4) Map tokens to their IDs\r\n",
        "        #    (5) Create attention mask\r\n",
        "        #    (6) Return a dictionary of outputs\r\n",
        "        encoded_sent = tokenizer.encode_plus(\r\n",
        "            text=sent,  # Preprocess sentence\r\n",
        "            add_special_tokens=True,        # Add `[CLS]` and `[SEP]`\r\n",
        "            max_length=MAX_LEN,                  # Max length to truncate/pad\r\n",
        "            pad_to_max_length=True,         # Pad sentence to max length\r\n",
        "            #return_tensors='pt',           # Return PyTorch tensor\r\n",
        "            return_attention_mask=True      # Return attention mask\r\n",
        "            )\r\n",
        "        \r\n",
        "        # Add the outputs to the lists\r\n",
        "        input_ids.append(encoded_sent.get('input_ids'))\r\n",
        "        attention_masks.append(encoded_sent.get('attention_mask'))\r\n",
        "\r\n",
        "    # Convert lists to tensors\r\n",
        "    input_ids = torch.tensor(input_ids)\r\n",
        "    attention_masks = torch.tensor(attention_masks)\r\n",
        "\r\n",
        "    return input_ids, attention_masks"
      ],
      "execution_count": null,
      "outputs": []
    },
    {
      "cell_type": "code",
      "metadata": {
        "id": "WHecOJCcaAvB"
      },
      "source": [
        "# Specifying MAX_LEN based on the previuously inspected title length\r\n",
        "MAX_LEN = 40\r\n",
        "\r\n",
        "# Run function preprocessing_for_bert on the train set and the test set\r\n",
        "train_inputs, train_masks = preprocessing_for_bert(X_train)\r\n",
        "val_inputs, val_masks = preprocessing_for_bert(X_test)"
      ],
      "execution_count": null,
      "outputs": []
    },
    {
      "cell_type": "code",
      "metadata": {
        "id": "u0ERElH7qtoY"
      },
      "source": [
        "# creating id columns based on the index\r\n",
        "train_ids = torch.tensor(X_train.index.tolist())\r\n",
        "test_ids = torch.tensor(X_test.index.tolist())"
      ],
      "execution_count": null,
      "outputs": []
    },
    {
      "cell_type": "code",
      "metadata": {
        "id": "X5wVTujrtJt6"
      },
      "source": [
        "# turning the torch tensors into numpy arrays of the required type\r\n",
        "train_inputs = train_inputs.numpy().astype(\"int32\")\r\n",
        "train_masks = train_masks.numpy().astype(\"int32\")\r\n",
        "train_ids = train_ids.numpy().astype(\"int32\")\r\n",
        "val_inputs = val_inputs.numpy().astype(\"int32\")\r\n",
        "val_masks = val_masks.numpy().astype(\"int32\")\r\n",
        "test_ids = test_ids.numpy().astype(\"int32\")"
      ],
      "execution_count": null,
      "outputs": []
    },
    {
      "cell_type": "code",
      "metadata": {
        "id": "eOGbsjA1o-3R"
      },
      "source": [
        "# putting the id, mask and tensor in a dictionary\r\n",
        "X_train_dic = {\"input_word_ids\":train_inputs,\"input_mask\":train_masks,\"input_type_ids\":train_ids}\r\n",
        "X_test_dic = {\"input_word_ids\":val_inputs,\"input_mask\":val_masks,\"input_type_ids\":test_ids}"
      ],
      "execution_count": null,
      "outputs": []
    },
    {
      "cell_type": "code",
      "metadata": {
        "id": "U2O9f6FWmMYj"
      },
      "source": [
        "# importing bert for tf2\r\n",
        "bert_v2 = hub.KerasLayer(\"https://tfhub.dev/tensorflow/bert_en_uncased_L-12_H-768_A-12/3\", trainable=True, output_key=\"pooled_output\")"
      ],
      "execution_count": null,
      "outputs": []
    },
    {
      "cell_type": "markdown",
      "metadata": {
        "id": "OIOj8MljjDAE"
      },
      "source": [
        "## 1.3 Creating the sentiment analysis model"
      ]
    },
    {
      "cell_type": "code",
      "metadata": {
        "id": "ba5smMu7jNZc"
      },
      "source": [
        "# creating a model\n",
        "model = Sequential()\n",
        "model.add(bert_v2)\n",
        "model.add(layers.Dense(128, activation = \"relu\"))\n",
        "model.add(layers.Dense(264, activation = \"relu\"))\n",
        "model.add(layers.Dropout(0.2))\n",
        "model.add(layers.Dense(64, activation = \"relu\"))\n",
        "model.add(layers.Dense(3, activation='softmax'))"
      ],
      "execution_count": null,
      "outputs": []
    },
    {
      "cell_type": "code",
      "metadata": {
        "id": "KZCQKT5VkcBV"
      },
      "source": [
        "# changing the learning rate to a much lower rate\n",
        "# it makes the results vastly more stable\n",
        "opt = optimizers.Adam(learning_rate=0.0001)"
      ],
      "execution_count": null,
      "outputs": []
    },
    {
      "cell_type": "code",
      "metadata": {
        "id": "NHfrON-xMNf2"
      },
      "source": [
        "# defining a custom loss function\r\n",
        "def weighted_categorical_crossentropy(weights):\r\n",
        "\r\n",
        "    weights = K.variable(weights)\r\n",
        "        \r\n",
        "    def loss(y_true, y_pred):\r\n",
        "        # scale predictions so that the class probas of each sample sum to 1\r\n",
        "        y_pred /= K.sum(y_pred, axis=-1, keepdims=True)\r\n",
        "        # clip to prevent NaN's and Inf's\r\n",
        "        y_pred = K.clip(y_pred, K.epsilon(), 1 - K.epsilon())\r\n",
        "        # calculate\r\n",
        "        loss = y_true * K.log(y_pred) * weights\r\n",
        "        loss = -K.sum(loss, -1)\r\n",
        "        return loss\r\n",
        "    \r\n",
        "    return loss"
      ],
      "execution_count": null,
      "outputs": []
    },
    {
      "cell_type": "code",
      "metadata": {
        "id": "enwFpk8XDjJl"
      },
      "source": [
        "# calculating the fraction of the dataset for each class\r\n",
        "perc_neu = sent_df[sent_df[\"sentiment\"]==\"neutral\"][\"sentiment\"].count()/sent_df[\"sentiment\"].count()\r\n",
        "perc_pos = sent_df[sent_df[\"sentiment\"]==\"positive\"][\"sentiment\"].count()/sent_df[\"sentiment\"].count()\r\n",
        "perc_neg = sent_df[sent_df[\"sentiment\"]==\"negative\"][\"sentiment\"].count()/sent_df[\"sentiment\"].count()"
      ],
      "execution_count": null,
      "outputs": []
    },
    {
      "cell_type": "code",
      "metadata": {
        "id": "zztMyGS-MYHt"
      },
      "source": [
        "# choosing the weights - those seemed to present the best results\r\n",
        "weights = np.array([2,1,2-perc_pos])"
      ],
      "execution_count": null,
      "outputs": []
    },
    {
      "cell_type": "code",
      "metadata": {
        "id": "ZgS7nx8mkfoL"
      },
      "source": [
        "model.compile(optimizer = opt, loss=weighted_categorical_crossentropy(weights), metrics=['accuracy'])"
      ],
      "execution_count": null,
      "outputs": []
    },
    {
      "cell_type": "code",
      "metadata": {
        "colab": {
          "base_uri": "https://localhost:8080/"
        },
        "id": "dc4GSQb0kkZR",
        "outputId": "185deeac-8f1b-4338-ad94-6249c61f1314"
      },
      "source": [
        "# batch size and number of epochs chosen based on the best results\r\n",
        "history = model.fit(X_train_dic, y_train, batch_size=64, epochs = 10)"
      ],
      "execution_count": null,
      "outputs": [
        {
          "output_type": "stream",
          "text": [
            "Epoch 1/10\n",
            "WARNING:tensorflow:Layers in a Sequential model should only have a single input tensor, but we receive a <class 'dict'> input: {'input_word_ids': <tf.Tensor 'IteratorGetNext:2' shape=(None, 40) dtype=int32>, 'input_mask': <tf.Tensor 'IteratorGetNext:0' shape=(None, 40) dtype=int32>, 'input_type_ids': <tf.Tensor 'ExpandDims:0' shape=(None, 1) dtype=int32>}\n",
            "Consider rewriting this model with the Functional API.\n"
          ],
          "name": "stdout"
        },
        {
          "output_type": "stream",
          "text": [
            "WARNING:tensorflow:Layers in a Sequential model should only have a single input tensor, but we receive a <class 'dict'> input: {'input_word_ids': <tf.Tensor 'IteratorGetNext:2' shape=(None, 40) dtype=int32>, 'input_mask': <tf.Tensor 'IteratorGetNext:0' shape=(None, 40) dtype=int32>, 'input_type_ids': <tf.Tensor 'ExpandDims:0' shape=(None, 1) dtype=int32>}\n",
            "Consider rewriting this model with the Functional API.\n"
          ],
          "name": "stderr"
        },
        {
          "output_type": "stream",
          "text": [
            "WARNING:tensorflow:Layers in a Sequential model should only have a single input tensor, but we receive a <class 'dict'> input: {'input_word_ids': <tf.Tensor 'IteratorGetNext:2' shape=(None, 40) dtype=int32>, 'input_mask': <tf.Tensor 'IteratorGetNext:0' shape=(None, 40) dtype=int32>, 'input_type_ids': <tf.Tensor 'ExpandDims:0' shape=(None, 1) dtype=int32>}\n",
            "Consider rewriting this model with the Functional API.\n"
          ],
          "name": "stdout"
        },
        {
          "output_type": "stream",
          "text": [
            "WARNING:tensorflow:Layers in a Sequential model should only have a single input tensor, but we receive a <class 'dict'> input: {'input_word_ids': <tf.Tensor 'IteratorGetNext:2' shape=(None, 40) dtype=int32>, 'input_mask': <tf.Tensor 'IteratorGetNext:0' shape=(None, 40) dtype=int32>, 'input_type_ids': <tf.Tensor 'ExpandDims:0' shape=(None, 1) dtype=int32>}\n",
            "Consider rewriting this model with the Functional API.\n"
          ],
          "name": "stderr"
        },
        {
          "output_type": "stream",
          "text": [
            "61/61 [==============================] - 73s 912ms/step - loss: 1.3239 - accuracy: 0.5604\n",
            "Epoch 2/10\n",
            "61/61 [==============================] - 56s 919ms/step - loss: 0.7904 - accuracy: 0.7908\n",
            "Epoch 3/10\n",
            "61/61 [==============================] - 56s 922ms/step - loss: 0.5128 - accuracy: 0.8797\n",
            "Epoch 4/10\n",
            "61/61 [==============================] - 56s 921ms/step - loss: 0.3944 - accuracy: 0.9043\n",
            "Epoch 5/10\n",
            "61/61 [==============================] - 56s 922ms/step - loss: 0.2255 - accuracy: 0.9470\n",
            "Epoch 6/10\n",
            "61/61 [==============================] - 56s 920ms/step - loss: 0.1907 - accuracy: 0.9610\n",
            "Epoch 7/10\n",
            "61/61 [==============================] - 56s 920ms/step - loss: 0.1568 - accuracy: 0.9645\n",
            "Epoch 8/10\n",
            "61/61 [==============================] - 56s 919ms/step - loss: 0.1602 - accuracy: 0.9609\n",
            "Epoch 9/10\n",
            "61/61 [==============================] - 56s 919ms/step - loss: 0.1786 - accuracy: 0.9599\n",
            "Epoch 10/10\n",
            "61/61 [==============================] - 56s 920ms/step - loss: 0.1264 - accuracy: 0.9726\n"
          ],
          "name": "stdout"
        }
      ]
    },
    {
      "cell_type": "markdown",
      "metadata": {
        "id": "AXx9sgKEt1Ky"
      },
      "source": [
        "## 1.4 Evaluation of the sentiment model"
      ]
    },
    {
      "cell_type": "code",
      "metadata": {
        "colab": {
          "base_uri": "https://localhost:8080/"
        },
        "id": "CX-vYEZCYitY",
        "outputId": "2d17df1c-6e74-4b6c-828d-f79d41c79209"
      },
      "source": [
        "# evaluating the accuracy on the test set - close to 80%\r\n",
        "model.evaluate(X_test_dic, y_test)"
      ],
      "execution_count": null,
      "outputs": [
        {
          "output_type": "stream",
          "text": [
            "WARNING:tensorflow:Layers in a Sequential model should only have a single input tensor, but we receive a <class 'dict'> input: {'input_word_ids': <tf.Tensor 'IteratorGetNext:2' shape=(None, 40) dtype=int32>, 'input_mask': <tf.Tensor 'IteratorGetNext:0' shape=(None, 40) dtype=int32>, 'input_type_ids': <tf.Tensor 'ExpandDims:0' shape=(None, 1) dtype=int32>}\n",
            "Consider rewriting this model with the Functional API.\n"
          ],
          "name": "stdout"
        },
        {
          "output_type": "stream",
          "text": [
            "WARNING:tensorflow:Layers in a Sequential model should only have a single input tensor, but we receive a <class 'dict'> input: {'input_word_ids': <tf.Tensor 'IteratorGetNext:2' shape=(None, 40) dtype=int32>, 'input_mask': <tf.Tensor 'IteratorGetNext:0' shape=(None, 40) dtype=int32>, 'input_type_ids': <tf.Tensor 'ExpandDims:0' shape=(None, 1) dtype=int32>}\n",
            "Consider rewriting this model with the Functional API.\n"
          ],
          "name": "stderr"
        },
        {
          "output_type": "stream",
          "text": [
            "31/31 [==============================] - 6s 160ms/step - loss: 1.0933 - accuracy: 0.7833\n"
          ],
          "name": "stdout"
        },
        {
          "output_type": "execute_result",
          "data": {
            "text/plain": [
              "[1.0933244228363037, 0.7832817435264587]"
            ]
          },
          "metadata": {
            "tags": []
          },
          "execution_count": 28
        }
      ]
    },
    {
      "cell_type": "code",
      "metadata": {
        "colab": {
          "base_uri": "https://localhost:8080/"
        },
        "id": "RdXmU8juxEJ9",
        "outputId": "657e84ce-a1d4-4d7a-b75c-527dacdeea45"
      },
      "source": [
        "# finding the predictions\n",
        "y_pred = model.predict(X_test_dic)\n",
        "y_pred_hardmax = np.zeros_like(y_pred)\n",
        "y_pred_hardmax[np.arange(len(y_pred)), y_pred.argmax(1)] = 1"
      ],
      "execution_count": null,
      "outputs": [
        {
          "output_type": "stream",
          "text": [
            "WARNING:tensorflow:Layers in a Sequential model should only have a single input tensor, but we receive a <class 'dict'> input: {'input_word_ids': <tf.Tensor 'IteratorGetNext:2' shape=(None, 40) dtype=int32>, 'input_mask': <tf.Tensor 'IteratorGetNext:0' shape=(None, 40) dtype=int32>, 'input_type_ids': <tf.Tensor 'ExpandDims:0' shape=(None, 1) dtype=int32>}\n",
            "Consider rewriting this model with the Functional API.\n"
          ],
          "name": "stdout"
        },
        {
          "output_type": "stream",
          "text": [
            "WARNING:tensorflow:Layers in a Sequential model should only have a single input tensor, but we receive a <class 'dict'> input: {'input_word_ids': <tf.Tensor 'IteratorGetNext:2' shape=(None, 40) dtype=int32>, 'input_mask': <tf.Tensor 'IteratorGetNext:0' shape=(None, 40) dtype=int32>, 'input_type_ids': <tf.Tensor 'ExpandDims:0' shape=(None, 1) dtype=int32>}\n",
            "Consider rewriting this model with the Functional API.\n"
          ],
          "name": "stderr"
        }
      ]
    },
    {
      "cell_type": "code",
      "metadata": {
        "id": "RFCWor2BzMf1"
      },
      "source": [
        "# changing back from one hot encoding to a list of classes\n",
        "y_pred_hardmax= [np.argmax(y, axis=None, out=None) for y in y_pred_hardmax]\n",
        "y_test= [np.argmax(y, axis=None, out=None) for y in y_test]\n",
        "# reversing the encoding\n",
        "y_test = labelencoder_y.inverse_transform(y_test)\n",
        "y_pred_hardmax = labelencoder_y.inverse_transform(y_pred_hardmax)"
      ],
      "execution_count": null,
      "outputs": []
    },
    {
      "cell_type": "code",
      "metadata": {
        "colab": {
          "base_uri": "https://localhost:8080/",
          "height": 500
        },
        "id": "MYTOyrGfr2yJ",
        "outputId": "e8e99736-d18a-43a2-8c38-ace39e62fa36"
      },
      "source": [
        "# creating a confusion matrix - it looks rather well\r\n",
        "plt.figure(figsize=(12,8))\r\n",
        "sns.heatmap(confusion_matrix(y_pred_hardmax,y_test), annot = True, cmap = \"YlGnBu\",fmt='g')"
      ],
      "execution_count": null,
      "outputs": [
        {
          "output_type": "execute_result",
          "data": {
            "text/plain": [
              "<matplotlib.axes._subplots.AxesSubplot at 0x7fe447cc63c8>"
            ]
          },
          "metadata": {
            "tags": []
          },
          "execution_count": 31
        },
        {
          "output_type": "display_data",
          "data": {
            "image/png": "[encoded data removed]",
            "text/plain": [
              "<Figure size 864x576 with 2 Axes>"
            ]
          },
          "metadata": {
            "tags": []
          }
        }
      ]
    },
    {
      "cell_type": "code",
      "metadata": {
        "colab": {
          "base_uri": "https://localhost:8080/"
        },
        "id": "iFJUZ8kn1C_a",
        "outputId": "788759dc-0df1-4acf-e2bd-a9d0e942b199"
      },
      "source": [
        "# printing out the classification report\r\n",
        "print(classification_report(y_pred_hardmax,y_test))"
      ],
      "execution_count": null,
      "outputs": [
        {
          "output_type": "stream",
          "text": [
            "              precision    recall  f1-score   support\n",
            "\n",
            "    negative       0.83      0.62      0.71       160\n",
            "     neutral       0.80      0.88      0.84       525\n",
            "    positive       0.72      0.70      0.71       284\n",
            "\n",
            "    accuracy                           0.78       969\n",
            "   macro avg       0.79      0.73      0.75       969\n",
            "weighted avg       0.78      0.78      0.78       969\n",
            "\n"
          ],
          "name": "stdout"
        }
      ]
    },
    {
      "cell_type": "code",
      "metadata": {
        "id": "HYEEz1Z51MhD"
      },
      "source": [
        "# creating aand cleaning a dataframe from X_test\n",
        "X_test_initial = pd.DataFrame(X_test_initial)\n",
        "X_test_initial = X_test_initial.reset_index()\n",
        "X_test_initial = X_test_initial.loc[:,\"title\"]\n",
        "X_test_initial = pd.DataFrame(X_test_initial)"
      ],
      "execution_count": null,
      "outputs": []
    },
    {
      "cell_type": "code",
      "metadata": {
        "colab": {
          "base_uri": "https://localhost:8080/",
          "height": 297
        },
        "id": "SaG55f03HkP9",
        "outputId": "41b0cc62-1e10-4e08-e320-38a6c583a5e6"
      },
      "source": [
        "# creating and cleaning a dataframe from y_test\n",
        "y_test = pd.DataFrame(y_test)\n",
        "# creating a dataframe from the label predictions\n",
        "y_pred_hardmax = pd.DataFrame(y_pred_hardmax)\n",
        "# adding the new columns to X_test_initial\n",
        "X_test_initial[\"y\"] = y_test\n",
        "X_test_initial[\"pred\"] = y_pred_hardmax\n",
        "# turning the softmax predictions into a dataframe\n",
        "y_pred = pd.DataFrame(y_pred)\n",
        "# merging the dataframes\n",
        "X_test_initial = X_test_initial.merge(y_pred, left_index = True, right_index=True,copy = False)\n",
        "X_test_initial.describe()"
      ],
      "execution_count": null,
      "outputs": [
        {
          "output_type": "execute_result",
          "data": {
            "text/html": [
              "<div>\n",
              "<style scoped>\n",
              "    .dataframe tbody tr th:only-of-type {\n",
              "        vertical-align: middle;\n",
              "    }\n",
              "\n",
              "    .dataframe tbody tr th {\n",
              "        vertical-align: top;\n",
              "    }\n",
              "\n",
              "    .dataframe thead th {\n",
              "        text-align: right;\n",
              "    }\n",
              "</style>\n",
              "<table border=\"1\" class=\"dataframe\">\n",
              "  <thead>\n",
              "    <tr style=\"text-align: right;\">\n",
              "      <th></th>\n",
              "      <th>0</th>\n",
              "      <th>1</th>\n",
              "      <th>2</th>\n",
              "    </tr>\n",
              "  </thead>\n",
              "  <tbody>\n",
              "    <tr>\n",
              "      <th>count</th>\n",
              "      <td>969.000000</td>\n",
              "      <td>969.000000</td>\n",
              "      <td>969.000000</td>\n",
              "    </tr>\n",
              "    <tr>\n",
              "      <th>mean</th>\n",
              "      <td>0.168084</td>\n",
              "      <td>0.529856</td>\n",
              "      <td>0.302060</td>\n",
              "    </tr>\n",
              "    <tr>\n",
              "      <th>std</th>\n",
              "      <td>0.336099</td>\n",
              "      <td>0.461759</td>\n",
              "      <td>0.413618</td>\n",
              "    </tr>\n",
              "    <tr>\n",
              "      <th>min</th>\n",
              "      <td>0.000506</td>\n",
              "      <td>0.000589</td>\n",
              "      <td>0.000435</td>\n",
              "    </tr>\n",
              "    <tr>\n",
              "      <th>25%</th>\n",
              "      <td>0.001235</td>\n",
              "      <td>0.009047</td>\n",
              "      <td>0.003380</td>\n",
              "    </tr>\n",
              "    <tr>\n",
              "      <th>50%</th>\n",
              "      <td>0.003094</td>\n",
              "      <td>0.770822</td>\n",
              "      <td>0.018036</td>\n",
              "    </tr>\n",
              "    <tr>\n",
              "      <th>75%</th>\n",
              "      <td>0.042497</td>\n",
              "      <td>0.992919</td>\n",
              "      <td>0.732181</td>\n",
              "    </tr>\n",
              "    <tr>\n",
              "      <th>max</th>\n",
              "      <td>0.987852</td>\n",
              "      <td>0.998899</td>\n",
              "      <td>0.998674</td>\n",
              "    </tr>\n",
              "  </tbody>\n",
              "</table>\n",
              "</div>"
            ],
            "text/plain": [
              "                0           1           2\n",
              "count  969.000000  969.000000  969.000000\n",
              "mean     0.168084    0.529856    0.302060\n",
              "std      0.336099    0.461759    0.413618\n",
              "min      0.000506    0.000589    0.000435\n",
              "25%      0.001235    0.009047    0.003380\n",
              "50%      0.003094    0.770822    0.018036\n",
              "75%      0.042497    0.992919    0.732181\n",
              "max      0.987852    0.998899    0.998674"
            ]
          },
          "metadata": {
            "tags": []
          },
          "execution_count": 34
        }
      ]
    },
    {
      "cell_type": "markdown",
      "metadata": {
        "id": "-XefcS8PAawf"
      },
      "source": [
        "The variations between classes seem quite high and our accuracy of predictions wasn't perfect, so we decided to use the softmax numbers instead of simply using the final predictions."
      ]
    },
    {
      "cell_type": "markdown",
      "metadata": {
        "id": "TD3VGPUoYqWV"
      },
      "source": [
        "## 1.5 Sentiment analysis for articles for the chosen companies"
      ]
    },
    {
      "cell_type": "code",
      "metadata": {
        "colab": {
          "base_uri": "https://localhost:8080/",
          "height": 204
        },
        "id": "8D6P5tlpRMAJ",
        "outputId": "d878c94c-cf61-4c4a-e444-aad748e8b8fa"
      },
      "source": [
        "# loading in the scraped database\r\n",
        "alxn_art = pd.read_csv(\"https://raw.githubusercontent.com/AnnaBujniewicz/semester_project/main/data/proc_alxn_data.csv\")\r\n",
        "alxn_art.head()"
      ],
      "execution_count": null,
      "outputs": [
        {
          "output_type": "execute_result",
          "data": {
            "text/html": [
              "<div>\n",
              "<style scoped>\n",
              "    .dataframe tbody tr th:only-of-type {\n",
              "        vertical-align: middle;\n",
              "    }\n",
              "\n",
              "    .dataframe tbody tr th {\n",
              "        vertical-align: top;\n",
              "    }\n",
              "\n",
              "    .dataframe thead th {\n",
              "        text-align: right;\n",
              "    }\n",
              "</style>\n",
              "<table border=\"1\" class=\"dataframe\">\n",
              "  <thead>\n",
              "    <tr style=\"text-align: right;\">\n",
              "      <th></th>\n",
              "      <th>Unnamed: 0</th>\n",
              "      <th>1</th>\n",
              "      <th>link</th>\n",
              "      <th>title</th>\n",
              "    </tr>\n",
              "  </thead>\n",
              "  <tbody>\n",
              "    <tr>\n",
              "      <th>0</th>\n",
              "      <td>1</td>\n",
              "      <td>2020-12-23</td>\n",
              "      <td>https://t.co/v7UATxnMUy</td>\n",
              "      <td>CVS &amp; Walgreens Hiring 35,000 To Help With Vac...</td>\n",
              "    </tr>\n",
              "    <tr>\n",
              "      <th>1</th>\n",
              "      <td>5</td>\n",
              "      <td>2020-12-22</td>\n",
              "      <td>https://t.co/wMy1spFJMS</td>\n",
              "      <td>StockCharts.com</td>\n",
              "    </tr>\n",
              "    <tr>\n",
              "      <th>2</th>\n",
              "      <td>7</td>\n",
              "      <td>2020-12-22</td>\n",
              "      <td>https://t.co/cCk00oo4ZF</td>\n",
              "      <td>Are you a robot?</td>\n",
              "    </tr>\n",
              "    <tr>\n",
              "      <th>3</th>\n",
              "      <td>8</td>\n",
              "      <td>2020-12-22</td>\n",
              "      <td>https://t.co/AqJYWoUC0J</td>\n",
              "      <td>FDA approves Pfizer's Covid vaccine for emerge...</td>\n",
              "    </tr>\n",
              "    <tr>\n",
              "      <th>4</th>\n",
              "      <td>9</td>\n",
              "      <td>2020-12-22</td>\n",
              "      <td>https://t.co/22qlhrlW30</td>\n",
              "      <td>Stock Market Insights</td>\n",
              "    </tr>\n",
              "  </tbody>\n",
              "</table>\n",
              "</div>"
            ],
            "text/plain": [
              "   Unnamed: 0  ...                                              title\n",
              "0           1  ...  CVS & Walgreens Hiring 35,000 To Help With Vac...\n",
              "1           5  ...                                    StockCharts.com\n",
              "2           7  ...                                   Are you a robot?\n",
              "3           8  ...  FDA approves Pfizer's Covid vaccine for emerge...\n",
              "4           9  ...                              Stock Market Insights\n",
              "\n",
              "[5 rows x 4 columns]"
            ]
          },
          "metadata": {
            "tags": []
          },
          "execution_count": 35
        }
      ]
    },
    {
      "cell_type": "code",
      "metadata": {
        "colab": {
          "base_uri": "https://localhost:8080/",
          "height": 204
        },
        "id": "xnE6inLLYkCy",
        "outputId": "b10a3939-7a21-48d6-b15e-81c0aa374e09"
      },
      "source": [
        "# cleaning the database\n",
        "alxn_art.rename(columns = {'1':'date'}, inplace = True)\n",
        "alxn_art = alxn_art.loc[:,[\"title\",\"date\"]]\n",
        "alxn_art[\"title\"] = alxn_art[\"title\"].astype(str)\n",
        "alxn_art.title = alxn_art.title.apply(lambda x: sneaky_cleanup(x))\n",
        "alxn_art[\"date\"] = pd.to_datetime(alxn_art[\"date\"], format='%Y-%m-%d', errors='coerce')\n",
        "alxn_art = alxn_art.drop_duplicates(subset = \"title\")\n",
        "# dropping the titles with 5 words or less - they likely aren't titles at all\n",
        "alxn_art = alxn_art[alxn_art['title'].str.split().str.len().ge(5)]\n",
        "alxn_art.reset_index(inplace=True)\n",
        "alxn_art.head()"
      ],
      "execution_count": null,
      "outputs": [
        {
          "output_type": "execute_result",
          "data": {
            "text/html": [
              "<div>\n",
              "<style scoped>\n",
              "    .dataframe tbody tr th:only-of-type {\n",
              "        vertical-align: middle;\n",
              "    }\n",
              "\n",
              "    .dataframe tbody tr th {\n",
              "        vertical-align: top;\n",
              "    }\n",
              "\n",
              "    .dataframe thead th {\n",
              "        text-align: right;\n",
              "    }\n",
              "</style>\n",
              "<table border=\"1\" class=\"dataframe\">\n",
              "  <thead>\n",
              "    <tr style=\"text-align: right;\">\n",
              "      <th></th>\n",
              "      <th>index</th>\n",
              "      <th>title</th>\n",
              "      <th>date</th>\n",
              "    </tr>\n",
              "  </thead>\n",
              "  <tbody>\n",
              "    <tr>\n",
              "      <th>0</th>\n",
              "      <td>0</td>\n",
              "      <td>CVS Walgreens Hiring To Help With Vaccine Dist...</td>\n",
              "      <td>2020-12-23</td>\n",
              "    </tr>\n",
              "    <tr>\n",
              "      <th>1</th>\n",
              "      <td>3</td>\n",
              "      <td>FDA approves Covid vaccine emergency use reach...</td>\n",
              "      <td>2020-12-22</td>\n",
              "    </tr>\n",
              "    <tr>\n",
              "      <th>2</th>\n",
              "      <td>7</td>\n",
              "      <td>Should Investors Consider This Biotech Takeover</td>\n",
              "      <td>2020-12-22</td>\n",
              "    </tr>\n",
              "    <tr>\n",
              "      <th>3</th>\n",
              "      <td>12</td>\n",
              "      <td>Daniel Bazarko Net worth insider trading</td>\n",
              "      <td>2020-12-21</td>\n",
              "    </tr>\n",
              "    <tr>\n",
              "      <th>4</th>\n",
              "      <td>13</td>\n",
              "      <td>3 Biotech Stocks That Could Explode Higher 2021</td>\n",
              "      <td>2020-12-21</td>\n",
              "    </tr>\n",
              "  </tbody>\n",
              "</table>\n",
              "</div>"
            ],
            "text/plain": [
              "   index                                              title       date\n",
              "0      0  CVS Walgreens Hiring To Help With Vaccine Dist... 2020-12-23\n",
              "1      3  FDA approves Covid vaccine emergency use reach... 2020-12-22\n",
              "2      7    Should Investors Consider This Biotech Takeover 2020-12-22\n",
              "3     12           Daniel Bazarko Net worth insider trading 2020-12-21\n",
              "4     13    3 Biotech Stocks That Could Explode Higher 2021 2020-12-21"
            ]
          },
          "metadata": {
            "tags": []
          },
          "execution_count": 36
        }
      ]
    },
    {
      "cell_type": "code",
      "metadata": {
        "colab": {
          "base_uri": "https://localhost:8080/"
        },
        "id": "vuuGSK4C_PmP",
        "outputId": "86de960e-3f14-4ab3-ad86-3060b169b92d"
      },
      "source": [
        "# checking the number of articles written per day - on average it's roughly 2.5\r\n",
        "alxn_art[\"date\"].value_counts().describe()"
      ],
      "execution_count": null,
      "outputs": [
        {
          "output_type": "execute_result",
          "data": {
            "text/plain": [
              "count    440.000000\n",
              "mean       2.481818\n",
              "std        3.540155\n",
              "min        1.000000\n",
              "25%        1.000000\n",
              "50%        2.000000\n",
              "75%        3.000000\n",
              "max       60.000000\n",
              "Name: date, dtype: float64"
            ]
          },
          "metadata": {
            "tags": []
          },
          "execution_count": 37
        }
      ]
    },
    {
      "cell_type": "code",
      "metadata": {
        "id": "kVf9uJnk_34I"
      },
      "source": [
        "# preprocessing the data for bert\r\n",
        "alxn_titles = alxn_art.title\r\n",
        "alxn_inputs, alxn_masks = preprocessing_for_bert(alxn_titles)\r\n",
        "alxn_ids = torch.tensor(alxn_titles.index.tolist())\r\n",
        "alxn_inputs = alxn_inputs.numpy().astype(\"int32\")\r\n",
        "alxn_masks = alxn_masks.numpy().astype(\"int32\")\r\n",
        "alxn_ids = alxn_ids.numpy().astype(\"int32\")\r\n",
        "alxn_dic = {\"input_word_ids\":alxn_inputs,\"input_mask\":alxn_masks,\"input_type_ids\":alxn_ids}"
      ],
      "execution_count": null,
      "outputs": []
    },
    {
      "cell_type": "code",
      "metadata": {
        "colab": {
          "base_uri": "https://localhost:8080/"
        },
        "id": "LrU-M2hobUci",
        "outputId": "74b56eb0-7394-4f84-e92c-861705a92960"
      },
      "source": [
        "# predicting the headings\r\n",
        "alxn_preds = model.predict(alxn_dic)\r\n",
        "alxn_preds"
      ],
      "execution_count": null,
      "outputs": [
        {
          "output_type": "execute_result",
          "data": {
            "text/plain": [
              "array([[9.9425316e-03, 8.4308618e-01, 1.4697134e-01],\n",
              "       [1.7196682e-01, 7.3595420e-02, 7.5443780e-01],\n",
              "       [7.0717093e-03, 9.8895252e-01, 3.9757965e-03],\n",
              "       ...,\n",
              "       [5.2049171e-02, 5.4384935e-01, 4.0410146e-01],\n",
              "       [1.4042598e-02, 7.0104468e-01, 2.8491271e-01],\n",
              "       [7.0477021e-04, 9.9810553e-01, 1.1896938e-03]], dtype=float32)"
            ]
          },
          "metadata": {
            "tags": []
          },
          "execution_count": 39
        }
      ]
    },
    {
      "cell_type": "code",
      "metadata": {
        "colab": {
          "base_uri": "https://localhost:8080/",
          "height": 204
        },
        "id": "NXa2wljXeS9U",
        "outputId": "c635a778-db78-4ba6-bfb0-9cc34454fe2b"
      },
      "source": [
        "# turning the predictions into a dataframe\n",
        "alxn_preds = pd.DataFrame(alxn_preds)\n",
        "# merging the articles and predictions dataframe\n",
        "alxn_sent = alxn_art.merge(alxn_preds, left_index = True, right_index=True)\n",
        "alxn_sent.head()"
      ],
      "execution_count": null,
      "outputs": [
        {
          "output_type": "execute_result",
          "data": {
            "text/html": [
              "<div>\n",
              "<style scoped>\n",
              "    .dataframe tbody tr th:only-of-type {\n",
              "        vertical-align: middle;\n",
              "    }\n",
              "\n",
              "    .dataframe tbody tr th {\n",
              "        vertical-align: top;\n",
              "    }\n",
              "\n",
              "    .dataframe thead th {\n",
              "        text-align: right;\n",
              "    }\n",
              "</style>\n",
              "<table border=\"1\" class=\"dataframe\">\n",
              "  <thead>\n",
              "    <tr style=\"text-align: right;\">\n",
              "      <th></th>\n",
              "      <th>index</th>\n",
              "      <th>title</th>\n",
              "      <th>date</th>\n",
              "      <th>0</th>\n",
              "      <th>1</th>\n",
              "      <th>2</th>\n",
              "    </tr>\n",
              "  </thead>\n",
              "  <tbody>\n",
              "    <tr>\n",
              "      <th>0</th>\n",
              "      <td>0</td>\n",
              "      <td>CVS Walgreens Hiring To Help With Vaccine Dist...</td>\n",
              "      <td>2020-12-23</td>\n",
              "      <td>0.009943</td>\n",
              "      <td>0.843086</td>\n",
              "      <td>0.146971</td>\n",
              "    </tr>\n",
              "    <tr>\n",
              "      <th>1</th>\n",
              "      <td>3</td>\n",
              "      <td>FDA approves Covid vaccine emergency use reach...</td>\n",
              "      <td>2020-12-22</td>\n",
              "      <td>0.171967</td>\n",
              "      <td>0.073595</td>\n",
              "      <td>0.754438</td>\n",
              "    </tr>\n",
              "    <tr>\n",
              "      <th>2</th>\n",
              "      <td>7</td>\n",
              "      <td>Should Investors Consider This Biotech Takeover</td>\n",
              "      <td>2020-12-22</td>\n",
              "      <td>0.007072</td>\n",
              "      <td>0.988953</td>\n",
              "      <td>0.003976</td>\n",
              "    </tr>\n",
              "    <tr>\n",
              "      <th>3</th>\n",
              "      <td>12</td>\n",
              "      <td>Daniel Bazarko Net worth insider trading</td>\n",
              "      <td>2020-12-21</td>\n",
              "      <td>0.007945</td>\n",
              "      <td>0.987348</td>\n",
              "      <td>0.004707</td>\n",
              "    </tr>\n",
              "    <tr>\n",
              "      <th>4</th>\n",
              "      <td>13</td>\n",
              "      <td>3 Biotech Stocks That Could Explode Higher 2021</td>\n",
              "      <td>2020-12-21</td>\n",
              "      <td>0.005370</td>\n",
              "      <td>0.777900</td>\n",
              "      <td>0.216730</td>\n",
              "    </tr>\n",
              "  </tbody>\n",
              "</table>\n",
              "</div>"
            ],
            "text/plain": [
              "   index                                              title  ...         1         2\n",
              "0      0  CVS Walgreens Hiring To Help With Vaccine Dist...  ...  0.843086  0.146971\n",
              "1      3  FDA approves Covid vaccine emergency use reach...  ...  0.073595  0.754438\n",
              "2      7    Should Investors Consider This Biotech Takeover  ...  0.988953  0.003976\n",
              "3     12           Daniel Bazarko Net worth insider trading  ...  0.987348  0.004707\n",
              "4     13    3 Biotech Stocks That Could Explode Higher 2021  ...  0.777900  0.216730\n",
              "\n",
              "[5 rows x 6 columns]"
            ]
          },
          "metadata": {
            "tags": []
          },
          "execution_count": 40
        }
      ]
    },
    {
      "cell_type": "code",
      "metadata": {
        "colab": {
          "base_uri": "https://localhost:8080/",
          "height": 297
        },
        "id": "2h8P0sfhfHxv",
        "outputId": "e51c9163-27f4-49d1-e4c4-3ec1c7d4db8e"
      },
      "source": [
        "# checking the variability of the class columns\r\n",
        "# the differences between the values seem to be high enough\r\n",
        "alxn_sent.describe()"
      ],
      "execution_count": null,
      "outputs": [
        {
          "output_type": "execute_result",
          "data": {
            "text/html": [
              "<div>\n",
              "<style scoped>\n",
              "    .dataframe tbody tr th:only-of-type {\n",
              "        vertical-align: middle;\n",
              "    }\n",
              "\n",
              "    .dataframe tbody tr th {\n",
              "        vertical-align: top;\n",
              "    }\n",
              "\n",
              "    .dataframe thead th {\n",
              "        text-align: right;\n",
              "    }\n",
              "</style>\n",
              "<table border=\"1\" class=\"dataframe\">\n",
              "  <thead>\n",
              "    <tr style=\"text-align: right;\">\n",
              "      <th></th>\n",
              "      <th>index</th>\n",
              "      <th>0</th>\n",
              "      <th>1</th>\n",
              "      <th>2</th>\n",
              "    </tr>\n",
              "  </thead>\n",
              "  <tbody>\n",
              "    <tr>\n",
              "      <th>count</th>\n",
              "      <td>1092.000000</td>\n",
              "      <td>1092.000000</td>\n",
              "      <td>1092.000000</td>\n",
              "      <td>1092.000000</td>\n",
              "    </tr>\n",
              "    <tr>\n",
              "      <th>mean</th>\n",
              "      <td>3158.169414</td>\n",
              "      <td>0.139011</td>\n",
              "      <td>0.589834</td>\n",
              "      <td>0.271155</td>\n",
              "    </tr>\n",
              "    <tr>\n",
              "      <th>std</th>\n",
              "      <td>2185.939209</td>\n",
              "      <td>0.292747</td>\n",
              "      <td>0.433443</td>\n",
              "      <td>0.381535</td>\n",
              "    </tr>\n",
              "    <tr>\n",
              "      <th>min</th>\n",
              "      <td>0.000000</td>\n",
              "      <td>0.000474</td>\n",
              "      <td>0.000636</td>\n",
              "      <td>0.000508</td>\n",
              "    </tr>\n",
              "    <tr>\n",
              "      <th>25%</th>\n",
              "      <td>1230.750000</td>\n",
              "      <td>0.001957</td>\n",
              "      <td>0.043376</td>\n",
              "      <td>0.004716</td>\n",
              "    </tr>\n",
              "    <tr>\n",
              "      <th>50%</th>\n",
              "      <td>2870.000000</td>\n",
              "      <td>0.005284</td>\n",
              "      <td>0.854294</td>\n",
              "      <td>0.034990</td>\n",
              "    </tr>\n",
              "    <tr>\n",
              "      <th>75%</th>\n",
              "      <td>5149.750000</td>\n",
              "      <td>0.043690</td>\n",
              "      <td>0.988900</td>\n",
              "      <td>0.504838</td>\n",
              "    </tr>\n",
              "    <tr>\n",
              "      <th>max</th>\n",
              "      <td>7097.000000</td>\n",
              "      <td>0.987769</td>\n",
              "      <td>0.998808</td>\n",
              "      <td>0.998589</td>\n",
              "    </tr>\n",
              "  </tbody>\n",
              "</table>\n",
              "</div>"
            ],
            "text/plain": [
              "             index            0            1            2\n",
              "count  1092.000000  1092.000000  1092.000000  1092.000000\n",
              "mean   3158.169414     0.139011     0.589834     0.271155\n",
              "std    2185.939209     0.292747     0.433443     0.381535\n",
              "min       0.000000     0.000474     0.000636     0.000508\n",
              "25%    1230.750000     0.001957     0.043376     0.004716\n",
              "50%    2870.000000     0.005284     0.854294     0.034990\n",
              "75%    5149.750000     0.043690     0.988900     0.504838\n",
              "max    7097.000000     0.987769     0.998808     0.998589"
            ]
          },
          "metadata": {
            "tags": []
          },
          "execution_count": 41
        }
      ]
    },
    {
      "cell_type": "code",
      "metadata": {
        "colab": {
          "base_uri": "https://localhost:8080/",
          "height": 235
        },
        "id": "rh8DgQfYEK9J",
        "outputId": "3fa86125-28f6-4a2c-a82a-94e4e8a504e6"
      },
      "source": [
        "# final cleanup of the database\r\n",
        "# we decided to use the mean of all the predictions as it seemed to be giving the best results\r\n",
        "alxn_sent = alxn_sent.groupby([\"date\"]).mean()\r\n",
        "alxn_sent.rename(columns = {0:'negative',1:'neutral',2:'positive'}, inplace = True)\r\n",
        "alxn_sent = alxn_sent.loc[:,[\"negative\",\"neutral\",\"positive\"]]\r\n",
        "alxn_sent.head()"
      ],
      "execution_count": null,
      "outputs": [
        {
          "output_type": "execute_result",
          "data": {
            "text/html": [
              "<div>\n",
              "<style scoped>\n",
              "    .dataframe tbody tr th:only-of-type {\n",
              "        vertical-align: middle;\n",
              "    }\n",
              "\n",
              "    .dataframe tbody tr th {\n",
              "        vertical-align: top;\n",
              "    }\n",
              "\n",
              "    .dataframe thead th {\n",
              "        text-align: right;\n",
              "    }\n",
              "</style>\n",
              "<table border=\"1\" class=\"dataframe\">\n",
              "  <thead>\n",
              "    <tr style=\"text-align: right;\">\n",
              "      <th></th>\n",
              "      <th>negative</th>\n",
              "      <th>neutral</th>\n",
              "      <th>positive</th>\n",
              "    </tr>\n",
              "    <tr>\n",
              "      <th>date</th>\n",
              "      <th></th>\n",
              "      <th></th>\n",
              "      <th></th>\n",
              "    </tr>\n",
              "  </thead>\n",
              "  <tbody>\n",
              "    <tr>\n",
              "      <th>2019-01-03</th>\n",
              "      <td>0.020913</td>\n",
              "      <td>0.688484</td>\n",
              "      <td>0.290603</td>\n",
              "    </tr>\n",
              "    <tr>\n",
              "      <th>2019-01-05</th>\n",
              "      <td>0.007763</td>\n",
              "      <td>0.553730</td>\n",
              "      <td>0.438507</td>\n",
              "    </tr>\n",
              "    <tr>\n",
              "      <th>2019-01-06</th>\n",
              "      <td>0.002064</td>\n",
              "      <td>0.932828</td>\n",
              "      <td>0.065108</td>\n",
              "    </tr>\n",
              "    <tr>\n",
              "      <th>2019-01-07</th>\n",
              "      <td>0.005437</td>\n",
              "      <td>0.767600</td>\n",
              "      <td>0.226963</td>\n",
              "    </tr>\n",
              "    <tr>\n",
              "      <th>2019-01-08</th>\n",
              "      <td>0.001288</td>\n",
              "      <td>0.001775</td>\n",
              "      <td>0.996937</td>\n",
              "    </tr>\n",
              "  </tbody>\n",
              "</table>\n",
              "</div>"
            ],
            "text/plain": [
              "            negative   neutral  positive\n",
              "date                                    \n",
              "2019-01-03  0.020913  0.688484  0.290603\n",
              "2019-01-05  0.007763  0.553730  0.438507\n",
              "2019-01-06  0.002064  0.932828  0.065108\n",
              "2019-01-07  0.005437  0.767600  0.226963\n",
              "2019-01-08  0.001288  0.001775  0.996937"
            ]
          },
          "metadata": {
            "tags": []
          },
          "execution_count": 42
        }
      ]
    },
    {
      "cell_type": "markdown",
      "metadata": {
        "id": "DQPNTcfqhJ_I"
      },
      "source": [
        "## 1.6 Building an embedding layer"
      ]
    },
    {
      "cell_type": "code",
      "metadata": {
        "id": "XI_Uu9UcALA0"
      },
      "source": [
        "# loading in a dataframe with millsions of article headlines\r\n",
        "articles = pd.read_csv(\"https://github.com/AnnaBujniewicz/semester_project/blob/main/data/raw_partner_headlines.csv.zip?raw=true\", compression = \"zip\")"
      ],
      "execution_count": null,
      "outputs": []
    },
    {
      "cell_type": "code",
      "metadata": {
        "colab": {
          "base_uri": "https://localhost:8080/",
          "height": 204
        },
        "id": "rIGenE9zAYsG",
        "outputId": "2fa68872-152c-4dba-d42c-d7860b1da494"
      },
      "source": [
        "# creating a dataframe for training the embedding layer\r\n",
        "# we're stacking three titles next to each other\r\n",
        "# we chose 3 as it's above the average number of articles per day\r\n",
        "articles_for_embed = pd.DataFrame(articles.loc[:,\"headline\"])\r\n",
        "sent_df_for_embed = pd.DataFrame(sent_df[\"title\"])\r\n",
        "embed = pd.concat([sent_df_for_embed,articles_for_embed], ignore_index = True)\r\n",
        "embed[\"title\"].fillna(embed[\"headline\"], inplace = True)\r\n",
        "embed = embed.loc[:,[\"title\"]]\r\n",
        "embed1 = embed[:int(len(embed)/3)]\r\n",
        "embed2 = embed[int(len(embed)/3):int(len(embed)*(2/3))].reset_index()\r\n",
        "embed3 = embed[int(len(embed)*(2/3)):].reset_index()\r\n",
        "embed1[\"title2\"] = embed2[\"title\"]\r\n",
        "embed1[\"title3\"] = embed3[\"title\"]\r\n",
        "embed1[\"titles\"] = embed1[\"title\"]+ \" \" + embed1[\"title2\"]+ \" \" +embed1[\"title3\"]\r\n",
        "embed = embed1.loc[:,[\"titles\"]]\r\n",
        "titles_for_embedding = embed[\"titles\"]\r\n",
        "embed.head()"
      ],
      "execution_count": null,
      "outputs": [
        {
          "output_type": "execute_result",
          "data": {
            "text/html": [
              "<div>\n",
              "<style scoped>\n",
              "    .dataframe tbody tr th:only-of-type {\n",
              "        vertical-align: middle;\n",
              "    }\n",
              "\n",
              "    .dataframe tbody tr th {\n",
              "        vertical-align: top;\n",
              "    }\n",
              "\n",
              "    .dataframe thead th {\n",
              "        text-align: right;\n",
              "    }\n",
              "</style>\n",
              "<table border=\"1\" class=\"dataframe\">\n",
              "  <thead>\n",
              "    <tr style=\"text-align: right;\">\n",
              "      <th></th>\n",
              "      <th>titles</th>\n",
              "    </tr>\n",
              "  </thead>\n",
              "  <tbody>\n",
              "    <tr>\n",
              "      <th>0</th>\n",
              "      <td>Technopolis plan develop stage area le square ...</td>\n",
              "    </tr>\n",
              "    <tr>\n",
              "      <th>1</th>\n",
              "      <td>The international electronic industry company ...</td>\n",
              "    </tr>\n",
              "    <tr>\n",
              "      <th>2</th>\n",
              "      <td>With new production plant company would increa...</td>\n",
              "    </tr>\n",
              "    <tr>\n",
              "      <th>3</th>\n",
              "      <td>According company updated strategy year Baswar...</td>\n",
              "    </tr>\n",
              "    <tr>\n",
              "      <th>4</th>\n",
              "      <td>FINANCING OF ASPOCOMP GROWTH Aspocomp aggressi...</td>\n",
              "    </tr>\n",
              "  </tbody>\n",
              "</table>\n",
              "</div>"
            ],
            "text/plain": [
              "                                              titles\n",
              "0  Technopolis plan develop stage area le square ...\n",
              "1  The international electronic industry company ...\n",
              "2  With new production plant company would increa...\n",
              "3  According company updated strategy year Baswar...\n",
              "4  FINANCING OF ASPOCOMP GROWTH Aspocomp aggressi..."
            ]
          },
          "metadata": {
            "tags": []
          },
          "execution_count": 44
        }
      ]
    },
    {
      "cell_type": "code",
      "metadata": {
        "colab": {
          "base_uri": "https://localhost:8080/"
        },
        "id": "SsgnNBbQJoRK",
        "outputId": "c45832ed-d496-4497-cd5c-f8390a336793"
      },
      "source": [
        "# checking the number of words in each row - max is 67\r\n",
        "embed1[\"words\"] = embed1[\"titles\"].map(lambda x: len(x.split()))\r\n",
        "embed1[\"words\"].describe()"
      ],
      "execution_count": null,
      "outputs": [
        {
          "output_type": "execute_result",
          "data": {
            "text/plain": [
              "count    616801.000000\n",
              "mean         27.573582\n",
              "std           5.515953\n",
              "min           7.000000\n",
              "25%          24.000000\n",
              "50%          27.000000\n",
              "75%          31.000000\n",
              "max          67.000000\n",
              "Name: words, dtype: float64"
            ]
          },
          "metadata": {
            "tags": []
          },
          "execution_count": 45
        }
      ]
    },
    {
      "cell_type": "code",
      "metadata": {
        "id": "lSwyevOGg2iY"
      },
      "source": [
        "# creating and fitting a tokenizer instance\n",
        "tokenizer = Tokenizer()\n",
        "tokenizer.fit_on_texts(titles_for_embedding)\n",
        "# finding the vocabulary size equal to 90% of all the used words\n",
        "vocab_size = int((len(tokenizer.word_index) + 1)*0.9)"
      ],
      "execution_count": null,
      "outputs": []
    },
    {
      "cell_type": "code",
      "metadata": {
        "id": "VB8Z78ghg4nM"
      },
      "source": [
        "# creating a tokenizer instance - this time with a correct number of words\n",
        "tokenizer = Tokenizer(num_words=vocab_size)\n",
        "# fitting it to the train set\n",
        "tokenizer.fit_on_texts(titles_for_embedding)"
      ],
      "execution_count": null,
      "outputs": []
    },
    {
      "cell_type": "code",
      "metadata": {
        "colab": {
          "background_save": true
        },
        "id": "33LLHRuWhOxc",
        "outputId": "bcdfc287-4d0d-4d79-db23-0e8d344a14c4"
      },
      "source": [
        "# initiating a word2vec model\n",
        "w2v_model = gensim.models.word2vec.Word2Vec(size=100, window = 5, min_count = 1, workers = 4)\n",
        "documents = [_title.split() for _title in embed.titles]\n",
        "w2v_model.build_vocab(documents)\n",
        "words = w2v_model.wv.vocab.keys()\n",
        "vocab_size = len(words)\n",
        "# training the model based on the list of all the words\n",
        "w2v_model.train(documents, total_examples=len(documents), epochs=16)\n",
        "# checking the most similar words to industry\n",
        "# it seems to work\n",
        "w2v_model.most_similar(\"sector\")"
      ],
      "execution_count": null,
      "outputs": [
        {
          "output_type": "execute_result",
          "data": {
            "text/plain": [
              "[('stocks', 0.712398111820221),\n",
              " ('giants', 0.6659966111183167),\n",
              " ('chains', 0.6367190480232239),\n",
              " ('averages', 0.621025025844574),\n",
              " ('retailers', 0.6163877248764038),\n",
              " ('distressed', 0.6147414445877075),\n",
              " ('sauce', 0.6095888614654541),\n",
              " ('suppliers', 0.6081448793411255),\n",
              " ('industry', 0.6024730205535889),\n",
              " ('ravages', 0.5970104932785034)]"
            ]
          },
          "metadata": {
            "tags": []
          },
          "execution_count": 0
        }
      ]
    },
    {
      "cell_type": "code",
      "metadata": {
        "colab": {
          "background_save": true
        },
        "id": "tl6A5Ctyheyc"
      },
      "source": [
        "# creating a matrix filled with 0 and filling the matrix with the word vectors\n",
        "embedding_matrix = np.zeros((vocab_size, 100))\n",
        "for word, i in tokenizer.word_index.items():\n",
        "  if word in w2v_model.wv:\n",
        "    embedding_matrix[i] = w2v_model.wv[word]"
      ],
      "execution_count": null,
      "outputs": []
    },
    {
      "cell_type": "code",
      "metadata": {
        "colab": {
          "background_save": true
        },
        "id": "rtFjq4uRhhmH"
      },
      "source": [
        "# creating a non-trainable embedding layer using the embedding matrix\n",
        "embedding_layer = layers.Embedding(vocab_size, 100, weights=[embedding_matrix], input_length=60, trainable=False)"
      ],
      "execution_count": null,
      "outputs": []
    },
    {
      "cell_type": "markdown",
      "metadata": {
        "id": "TlLhjRt8V6vT"
      },
      "source": [
        "## 1.7 Preparing the stock data and sentiment data"
      ]
    },
    {
      "cell_type": "code",
      "metadata": {
        "colab": {
          "background_save": true
        },
        "id": "96hujXaCV_Op",
        "outputId": "7db4b4d7-1780-437e-ed70-24ef83c73b5c"
      },
      "source": [
        "# loading in the dataframe with data for the chosen companies and dates \r\n",
        "yf_df = pd.read_csv(\"https://raw.githubusercontent.com/AnnaBujniewicz/semester_project/main/data/yf_chosen_comp.csv\")\r\n",
        "yf_df.head()"
      ],
      "execution_count": null,
      "outputs": [
        {
          "output_type": "execute_result",
          "data": {
            "text/html": [
              "<div>\n",
              "<style scoped>\n",
              "    .dataframe tbody tr th:only-of-type {\n",
              "        vertical-align: middle;\n",
              "    }\n",
              "\n",
              "    .dataframe tbody tr th {\n",
              "        vertical-align: top;\n",
              "    }\n",
              "\n",
              "    .dataframe thead th {\n",
              "        text-align: right;\n",
              "    }\n",
              "</style>\n",
              "<table border=\"1\" class=\"dataframe\">\n",
              "  <thead>\n",
              "    <tr style=\"text-align: right;\">\n",
              "      <th></th>\n",
              "      <th>date</th>\n",
              "      <th>TSLA</th>\n",
              "      <th>GOOGL</th>\n",
              "      <th>ALXN</th>\n",
              "      <th>AMZN</th>\n",
              "    </tr>\n",
              "  </thead>\n",
              "  <tbody>\n",
              "    <tr>\n",
              "      <th>0</th>\n",
              "      <td>2019-01-02</td>\n",
              "      <td>62.023998</td>\n",
              "      <td>1054.680054</td>\n",
              "      <td>98.050003</td>\n",
              "      <td>1539.130005</td>\n",
              "    </tr>\n",
              "    <tr>\n",
              "      <th>1</th>\n",
              "      <td>2019-01-03</td>\n",
              "      <td>60.071999</td>\n",
              "      <td>1025.469971</td>\n",
              "      <td>100.209999</td>\n",
              "      <td>1500.280029</td>\n",
              "    </tr>\n",
              "    <tr>\n",
              "      <th>2</th>\n",
              "      <td>2019-01-04</td>\n",
              "      <td>63.537998</td>\n",
              "      <td>1078.069946</td>\n",
              "      <td>106.000000</td>\n",
              "      <td>1575.390015</td>\n",
              "    </tr>\n",
              "    <tr>\n",
              "      <th>3</th>\n",
              "      <td>2019-01-07</td>\n",
              "      <td>66.991997</td>\n",
              "      <td>1075.920044</td>\n",
              "      <td>107.940002</td>\n",
              "      <td>1629.510010</td>\n",
              "    </tr>\n",
              "    <tr>\n",
              "      <th>4</th>\n",
              "      <td>2019-01-08</td>\n",
              "      <td>67.070000</td>\n",
              "      <td>1085.369995</td>\n",
              "      <td>108.610001</td>\n",
              "      <td>1656.579956</td>\n",
              "    </tr>\n",
              "  </tbody>\n",
              "</table>\n",
              "</div>"
            ],
            "text/plain": [
              "         date       TSLA        GOOGL        ALXN         AMZN\n",
              "0  2019-01-02  62.023998  1054.680054   98.050003  1539.130005\n",
              "1  2019-01-03  60.071999  1025.469971  100.209999  1500.280029\n",
              "2  2019-01-04  63.537998  1078.069946  106.000000  1575.390015\n",
              "3  2019-01-07  66.991997  1075.920044  107.940002  1629.510010\n",
              "4  2019-01-08  67.070000  1085.369995  108.610001  1656.579956"
            ]
          },
          "metadata": {
            "tags": []
          },
          "execution_count": 0
        }
      ]
    },
    {
      "cell_type": "code",
      "metadata": {
        "colab": {
          "background_save": true
        },
        "id": "hnR5E6eXWYcE",
        "outputId": "82e93d73-e046-4abc-a4f6-bcd04af5fc68"
      },
      "source": [
        "# cleaning the dataframe up and preparing it for the neural network\r\n",
        "yf_df.set_index(\"date\", inplace = True)\r\n",
        "yf_df = yf_df.loc[:,[\"ALXN\"]]\r\n",
        "scaler = MinMaxScaler(feature_range=(0, 1))\r\n",
        "yf_df['ALXN'] = scaler.fit_transform(yf_df['ALXN'].values.reshape(-1,1))\r\n",
        "yf_df['ALXN-1'] = yf_df['ALXN']\r\n",
        "yf_df['ALXN-1'] = yf_df['ALXN-1'].shift(1)\r\n",
        "yf_df.dropna(inplace = True)\r\n",
        "yf_df.head()"
      ],
      "execution_count": null,
      "outputs": [
        {
          "output_type": "execute_result",
          "data": {
            "text/html": [
              "<div>\n",
              "<style scoped>\n",
              "    .dataframe tbody tr th:only-of-type {\n",
              "        vertical-align: middle;\n",
              "    }\n",
              "\n",
              "    .dataframe tbody tr th {\n",
              "        vertical-align: top;\n",
              "    }\n",
              "\n",
              "    .dataframe thead th {\n",
              "        text-align: right;\n",
              "    }\n",
              "</style>\n",
              "<table border=\"1\" class=\"dataframe\">\n",
              "  <thead>\n",
              "    <tr style=\"text-align: right;\">\n",
              "      <th></th>\n",
              "      <th>ALXN</th>\n",
              "      <th>ALXN-1</th>\n",
              "    </tr>\n",
              "    <tr>\n",
              "      <th>date</th>\n",
              "      <th></th>\n",
              "      <th></th>\n",
              "    </tr>\n",
              "  </thead>\n",
              "  <tbody>\n",
              "    <tr>\n",
              "      <th>2019-01-03</th>\n",
              "      <td>0.374962</td>\n",
              "      <td>0.342105</td>\n",
              "    </tr>\n",
              "    <tr>\n",
              "      <th>2019-01-04</th>\n",
              "      <td>0.463036</td>\n",
              "      <td>0.374962</td>\n",
              "    </tr>\n",
              "    <tr>\n",
              "      <th>2019-01-07</th>\n",
              "      <td>0.492546</td>\n",
              "      <td>0.463036</td>\n",
              "    </tr>\n",
              "    <tr>\n",
              "      <th>2019-01-08</th>\n",
              "      <td>0.502738</td>\n",
              "      <td>0.492546</td>\n",
              "    </tr>\n",
              "    <tr>\n",
              "      <th>2019-01-09</th>\n",
              "      <td>0.523273</td>\n",
              "      <td>0.502738</td>\n",
              "    </tr>\n",
              "  </tbody>\n",
              "</table>\n",
              "</div>"
            ],
            "text/plain": [
              "                ALXN    ALXN-1\n",
              "date                          \n",
              "2019-01-03  0.374962  0.342105\n",
              "2019-01-04  0.463036  0.374962\n",
              "2019-01-07  0.492546  0.463036\n",
              "2019-01-08  0.502738  0.492546\n",
              "2019-01-09  0.523273  0.502738"
            ]
          },
          "metadata": {
            "tags": []
          },
          "execution_count": 0
        }
      ]
    },
    {
      "cell_type": "code",
      "metadata": {
        "colab": {
          "background_save": true
        },
        "id": "caw2kwY4ZQYg",
        "outputId": "d762749c-7f5f-4949-c1bc-2967375df4ae"
      },
      "source": [
        "# merging the sentiment and stock data\r\n",
        "data_with_sent = yf_df.merge(alxn_sent, how = \"left\", left_index = True, right_index=True)\r\n",
        "# using forward fill to deal with missing values, as it can be assumed that if no new articles were realised\r\n",
        "# the previous day's articles impact still applies\r\n",
        "data_with_sent.ffill(inplace = True)\r\n",
        "data_with_sent.head()"
      ],
      "execution_count": null,
      "outputs": [
        {
          "output_type": "execute_result",
          "data": {
            "text/html": [
              "<div>\n",
              "<style scoped>\n",
              "    .dataframe tbody tr th:only-of-type {\n",
              "        vertical-align: middle;\n",
              "    }\n",
              "\n",
              "    .dataframe tbody tr th {\n",
              "        vertical-align: top;\n",
              "    }\n",
              "\n",
              "    .dataframe thead th {\n",
              "        text-align: right;\n",
              "    }\n",
              "</style>\n",
              "<table border=\"1\" class=\"dataframe\">\n",
              "  <thead>\n",
              "    <tr style=\"text-align: right;\">\n",
              "      <th></th>\n",
              "      <th>ALXN</th>\n",
              "      <th>ALXN-1</th>\n",
              "      <th>negative</th>\n",
              "      <th>neutral</th>\n",
              "      <th>positive</th>\n",
              "    </tr>\n",
              "    <tr>\n",
              "      <th>date</th>\n",
              "      <th></th>\n",
              "      <th></th>\n",
              "      <th></th>\n",
              "      <th></th>\n",
              "      <th></th>\n",
              "    </tr>\n",
              "  </thead>\n",
              "  <tbody>\n",
              "    <tr>\n",
              "      <th>2019-01-03</th>\n",
              "      <td>0.374962</td>\n",
              "      <td>0.342105</td>\n",
              "      <td>0.020913</td>\n",
              "      <td>0.688484</td>\n",
              "      <td>0.290603</td>\n",
              "    </tr>\n",
              "    <tr>\n",
              "      <th>2019-01-04</th>\n",
              "      <td>0.463036</td>\n",
              "      <td>0.374962</td>\n",
              "      <td>0.020913</td>\n",
              "      <td>0.688484</td>\n",
              "      <td>0.290603</td>\n",
              "    </tr>\n",
              "    <tr>\n",
              "      <th>2019-01-07</th>\n",
              "      <td>0.492546</td>\n",
              "      <td>0.463036</td>\n",
              "      <td>0.005437</td>\n",
              "      <td>0.767600</td>\n",
              "      <td>0.226963</td>\n",
              "    </tr>\n",
              "    <tr>\n",
              "      <th>2019-01-08</th>\n",
              "      <td>0.502738</td>\n",
              "      <td>0.492546</td>\n",
              "      <td>0.001288</td>\n",
              "      <td>0.001775</td>\n",
              "      <td>0.996937</td>\n",
              "    </tr>\n",
              "    <tr>\n",
              "      <th>2019-01-09</th>\n",
              "      <td>0.523273</td>\n",
              "      <td>0.502738</td>\n",
              "      <td>0.001786</td>\n",
              "      <td>0.671791</td>\n",
              "      <td>0.326423</td>\n",
              "    </tr>\n",
              "  </tbody>\n",
              "</table>\n",
              "</div>"
            ],
            "text/plain": [
              "                ALXN    ALXN-1  negative   neutral  positive\n",
              "date                                                        \n",
              "2019-01-03  0.374962  0.342105  0.020913  0.688484  0.290603\n",
              "2019-01-04  0.463036  0.374962  0.020913  0.688484  0.290603\n",
              "2019-01-07  0.492546  0.463036  0.005437  0.767600  0.226963\n",
              "2019-01-08  0.502738  0.492546  0.001288  0.001775  0.996937\n",
              "2019-01-09  0.523273  0.502738  0.001786  0.671791  0.326423"
            ]
          },
          "metadata": {
            "tags": []
          },
          "execution_count": 0
        }
      ]
    },
    {
      "cell_type": "code",
      "metadata": {
        "colab": {
          "background_save": true
        },
        "id": "Zanodx2TaNah"
      },
      "source": [
        "# creating a test and train split\r\n",
        "X_train_sent = data_with_sent.iloc[:,1:][:int(len(data_with_sent[\"ALXN\"])*0.8)]\r\n",
        "X_test_sent = data_with_sent.iloc[:,1:][int(len(data_with_sent[\"ALXN\"])*0.8):]\r\n",
        "y_train_sent = data_with_sent[\"ALXN\"][:int(len(data_with_sent[\"ALXN\"])*0.8)]\r\n",
        "y_test_sent = data_with_sent[\"ALXN\"][int(len(data_with_sent[\"ALXN\"])*0.8):]"
      ],
      "execution_count": null,
      "outputs": []
    },
    {
      "cell_type": "code",
      "metadata": {
        "colab": {
          "background_save": true
        },
        "id": "_w7-ua1vZgbF"
      },
      "source": [
        "# reshaping the data appropriately\r\n",
        "X_train_sent = X_train_sent.values.reshape(-1,4)\r\n",
        "X_test_sent = X_test_sent.values.reshape(-1,4)\r\n",
        "y_train_sent = y_train_sent.values.reshape(-1,1)\r\n",
        "X_train_sent = np.reshape(X_train_sent, (X_train_sent.shape[0],1,4))\r\n",
        "X_test_sent = np.reshape(X_test_sent, (X_test_sent.shape[0],1,4))"
      ],
      "execution_count": null,
      "outputs": []
    },
    {
      "cell_type": "markdown",
      "metadata": {
        "id": "1R_h8ee5KJI3"
      },
      "source": [
        "## 1.8 Preparing stock data with article titles"
      ]
    },
    {
      "cell_type": "code",
      "metadata": {
        "colab": {
          "background_save": true
        },
        "id": "wRb3zRLcKZ3e"
      },
      "source": [
        "# creating a dictionary with dates and all respective titles\r\n",
        "alxn_title_by_date = {\"date\":[], \"titles\":[]}\r\n",
        "for date in alxn_art[\"date\"]:\r\n",
        "  alxn_title_by_date[\"titles\"].append(\" \".join(alxn_art[alxn_art[\"date\"]==date][\"title\"]))\r\n",
        "  alxn_title_by_date[\"date\"].append(date)"
      ],
      "execution_count": null,
      "outputs": []
    },
    {
      "cell_type": "code",
      "metadata": {
        "colab": {
          "background_save": true
        },
        "id": "vCgv4xgeKcto"
      },
      "source": [
        "# turning the dictionary into a dataframe and clearing it appropriately\r\n",
        "alxn_title_by_date = pd.DataFrame(alxn_title_by_date)\r\n",
        "alxn_title_by_date.drop_duplicates(inplace = True)\r\n",
        "alxn_title_by_date.reset_index(inplace = True)\r\n",
        "alxn_title_by_date.set_index(\"date\", inplace = True)\r\n",
        "alxn_title_by_date = yf_df.merge(alxn_title_by_date, how = \"left\", left_index = True, right_index=True)\r\n",
        "alxn_title_by_date.ffill(inplace = True)"
      ],
      "execution_count": null,
      "outputs": []
    },
    {
      "cell_type": "code",
      "metadata": {
        "colab": {
          "background_save": true
        },
        "id": "XO5srJyYJ8zR"
      },
      "source": [
        "# preparing the titles for embedding layer\r\n",
        "alxn_titles = alxn_title_by_date.titles\r\n",
        "alxn_titles = tokenizer.texts_to_sequences(alxn_titles)\r\n",
        "alxn_titles =  keras.preprocessing.sequence.pad_sequences(alxn_titles, maxlen=60)\r\n",
        "alxn_titles_embed = embedding_layer(alxn_titles)"
      ],
      "execution_count": null,
      "outputs": []
    },
    {
      "cell_type": "code",
      "metadata": {
        "colab": {
          "background_save": true
        },
        "id": "d3Y4uEZ9YtkW"
      },
      "source": [
        "# creating a function that puts together stock data and the embedded tensor\r\n",
        "def join_stock_and_embed(stock, tensor):\r\n",
        "  assert len(tensor.shape) == 2, \"Tensor should be of 2 dimensions nothing more\"\r\n",
        "  stock_tensor = np.repeat(stock, tensor.shape[-1])\r\n",
        "  new_tensor = np.concatenate((np.expand_dims(stock_tensor,0), tensor))\r\n",
        "  return new_tensor"
      ],
      "execution_count": null,
      "outputs": []
    },
    {
      "cell_type": "code",
      "metadata": {
        "colab": {
          "background_save": true
        },
        "id": "2rEYJhS4TzTi"
      },
      "source": [
        "# prepating the data for the function\r\n",
        "target = yf_df[\"ALXN\"].tolist()\r\n",
        "stock = yf_df[\"ALXN-1\"].tolist()\r\n",
        "tensors = alxn_titles_embed.numpy()\r\n",
        "input_tensor = []\r\n",
        "# applying the function to each row of the embedded titles and stock data\r\n",
        "for i, x in enumerate(stock):\r\n",
        "  input_tensor.append(join_stock_and_embed(x, tensors[i]))"
      ],
      "execution_count": null,
      "outputs": []
    },
    {
      "cell_type": "code",
      "metadata": {
        "colab": {
          "background_save": true
        },
        "id": "ucJa_gWyb8Lx"
      },
      "source": [
        "# creatin the test and train split\r\n",
        "X_train_titl = np.asarray(input_tensor)[:int(np.asarray(input_tensor).shape[0]*0.8)]\r\n",
        "X_test_titl = np.asarray(input_tensor)[int(np.asarray(input_tensor).shape[0]*0.8):]\r\n",
        "y_train_titl = yf_df[\"ALXN\"][:int(len(yf_df[\"ALXN\"])*0.8)]\r\n",
        "y_test_titl = yf_df[\"ALXN\"][int(len(yf_df[\"ALXN\"])*0.8):]\r\n",
        "# reshaping the needed data\r\n",
        "y_train_titl = y_train_titl.values.reshape(-1,1)"
      ],
      "execution_count": null,
      "outputs": []
    },
    {
      "cell_type": "markdown",
      "metadata": {
        "id": "Re5JOrrJih-O"
      },
      "source": [
        "# 2 Neural network with sentiment analysis"
      ]
    },
    {
      "cell_type": "markdown",
      "metadata": {
        "id": "u5XUtUv1GQSJ"
      },
      "source": [
        "Scaling was not used for the new variables since they were already between 0 and 1. Additionally, the relation in between them is likely important to consider.\n"
      ]
    },
    {
      "cell_type": "code",
      "metadata": {
        "colab": {
          "background_save": true
        },
        "id": "9_sHqerzlY5l",
        "outputId": "c031fb7e-1aef-4689-efa2-affae1d727d4"
      },
      "source": [
        "# creating a sequential model\n",
        "model = Sequential()\n",
        "model.add(layers.LSTM(128, return_sequences=True, dropout=0.2, recurrent_dropout=0.2, input_shape = (1,4)))\n",
        "model.add(layers.LSTM(64, dropout=0.2, recurrent_dropout=0.2))\n",
        "model.add(layers.Dropout(0.5))\n",
        "model.add(layers.Dense(256, activation = \"relu\"))\n",
        "model.add(layers.Dense(128, activation = \"relu\"))\n",
        "model.add(layers.Dense(64, activation = \"relu\"))\n",
        "model.add(layers.Dropout(0.2))\n",
        "model.add(layers.Dense(1))"
      ],
      "execution_count": null,
      "outputs": [
        {
          "output_type": "stream",
          "text": [
            "WARNING:tensorflow:Layer lstm will not use cuDNN kernel since it doesn't meet the cuDNN kernel criteria. It will use generic GPU kernel as fallback when running on GPU\n"
          ],
          "name": "stdout"
        },
        {
          "output_type": "stream",
          "text": [
            "WARNING:tensorflow:Layer lstm will not use cuDNN kernel since it doesn't meet the cuDNN kernel criteria. It will use generic GPU kernel as fallback when running on GPU\n"
          ],
          "name": "stderr"
        },
        {
          "output_type": "stream",
          "text": [
            "WARNING:tensorflow:Layer lstm_1 will not use cuDNN kernel since it doesn't meet the cuDNN kernel criteria. It will use generic GPU kernel as fallback when running on GPU\n"
          ],
          "name": "stdout"
        },
        {
          "output_type": "stream",
          "text": [
            "WARNING:tensorflow:Layer lstm_1 will not use cuDNN kernel since it doesn't meet the cuDNN kernel criteria. It will use generic GPU kernel as fallback when running on GPU\n"
          ],
          "name": "stderr"
        }
      ]
    },
    {
      "cell_type": "code",
      "metadata": {
        "colab": {
          "background_save": true
        },
        "id": "litLCXp6leJA"
      },
      "source": [
        "# defining early stopping with the patience of 1 period\n",
        "stop = EarlyStopping(monitor = \"loss\", patience = 1, mode = \"min\", restore_best_weights=True)\n",
        "# the same learning rate as for the first model - again caused by stability issues\n",
        "opt = optimizers.Adam(learning_rate=0.0001)"
      ],
      "execution_count": null,
      "outputs": []
    },
    {
      "cell_type": "code",
      "metadata": {
        "colab": {
          "background_save": true
        },
        "id": "65soyLFWl98-"
      },
      "source": [
        "# compiling the model\r\n",
        "model.compile(loss='mean_squared_error', optimizer=opt)"
      ],
      "execution_count": null,
      "outputs": []
    },
    {
      "cell_type": "code",
      "metadata": {
        "colab": {
          "background_save": true
        },
        "id": "F6IQ7tUQl2oN",
        "outputId": "0fa93c17-966b-423a-d087-85164dbce524"
      },
      "source": [
        "# fitting the model to the data\r\n",
        "history = model.fit(X_train_sent, y_train_sent, epochs=50, batch_size=1, verbose=1, callbacks = [stop])"
      ],
      "execution_count": null,
      "outputs": [
        {
          "output_type": "stream",
          "text": [
            "Epoch 1/50\n",
            "384/384 [==============================] - 6s 7ms/step - loss: 0.1980\n",
            "Epoch 2/50\n",
            "384/384 [==============================] - 3s 7ms/step - loss: 0.0394\n",
            "Epoch 3/50\n",
            "384/384 [==============================] - 3s 7ms/step - loss: 0.0366\n"
          ],
          "name": "stdout"
        }
      ]
    },
    {
      "cell_type": "code",
      "metadata": {
        "colab": {
          "background_save": true
        },
        "id": "QCPBY0K1rSxZ"
      },
      "source": [
        "# predicting the data\r\n",
        "y_pred = model.predict(X_test_sent)"
      ],
      "execution_count": null,
      "outputs": []
    },
    {
      "cell_type": "code",
      "metadata": {
        "colab": {
          "background_save": true
        },
        "id": "uDcR5GIxrWK8"
      },
      "source": [
        "# filling a column with missing values and the predictions\n",
        "data_with_sent[\"pred\"] = np.nan\n",
        "data_with_sent[\"pred\"][int(len(data_with_sent[\"ALXN\"])*0.8):] = np.array(y_pred).squeeze(1)"
      ],
      "execution_count": null,
      "outputs": []
    },
    {
      "cell_type": "code",
      "metadata": {
        "colab": {
          "background_save": true
        },
        "id": "ELMoh6GIraHb",
        "outputId": "2bfc2b11-62a6-4b89-a0a7-faef4243309f"
      },
      "source": [
        "# plotting the predictions as an extension of the training data\n",
        "plt.figure(figsize=(12,8))\n",
        "plt.xticks(rotation=45,ticks=[0, int(len(yf_df)*0.2),int(len(yf_df)*0.4),int(len(yf_df)*0.6),int(len(yf_df)*0.8),int(len(yf_df))], labels = [yf_df.index[0],yf_df.index[int(len(yf_df)*0.2)],yf_df.index[int(len(yf_df)*0.4)],yf_df.index[int(len(yf_df)*0.6)],yf_df.index[int(len(yf_df)*0.8)], yf_df.index[-1]])\n",
        "plt.plot(data_with_sent.ALXN[:int(len(data_with_sent[\"ALXN\"])*0.8)], color = \"b\")\n",
        "plt.plot(data_with_sent[\"pred\"][int(len(data_with_sent[\"ALXN\"])*0.8):], color = \"c\")\n",
        "plt.legend(['Train','Predictions'], loc='upper_center')\n",
        "plt.show()"
      ],
      "execution_count": null,
      "outputs": [
        {
          "output_type": "display_data",
          "data": {
            "image/png": "[encoded data removed]",
            "text/plain": [
              "<Figure size 864x576 with 1 Axes>"
            ]
          },
          "metadata": {
            "tags": []
          }
        }
      ]
    },
    {
      "cell_type": "code",
      "metadata": {
        "colab": {
          "background_save": true
        },
        "id": "Pd40IAqErdXU",
        "outputId": "c8018473-49b5-4fa7-dae1-6e8f4b9f96cd"
      },
      "source": [
        "# plotting the predictions against the test data\n",
        "plt.figure(figsize=(12,8))\n",
        "plt.xticks(rotation=45, ticks=[0, int(len(y_test_sent)*0.2),int(len(y_test_sent)*0.4),int(len(y_test_sent)*0.6),int(len(y_test_sent)*0.8),int(len(y_test_sent))], labels = [y_test_sent.index[0],y_test_sent.index[int(len(y_test_sent)*0.2)],y_test_sent.index[int(len(y_test_sent)*0.4)],y_test_sent.index[int(len(y_test_sent)*0.6)],y_test_sent.index[int(len(y_test_sent)*0.8)], y_test_sent.index[-1]])\n",
        "plt.plot(y_test_sent, color = \"b\")\n",
        "plt.plot(data_with_sent[\"pred\"][int(len(data_with_sent[\"ALXN\"])*0.8):], color = \"c\")\n",
        "plt.legend(['Test','Predictions'], loc='upper_center')\n",
        "plt.show()"
      ],
      "execution_count": null,
      "outputs": [
        {
          "output_type": "display_data",
          "data": {
            "image/png": "[encoded data removed]",
            "text/plain": [
              "<Figure size 864x576 with 1 Axes>"
            ]
          },
          "metadata": {
            "tags": []
          }
        }
      ]
    },
    {
      "cell_type": "code",
      "metadata": {
        "colab": {
          "background_save": true
        },
        "id": "bh3xxYL0rit4",
        "outputId": "c2039b85-b718-429d-bc98-686627db9217"
      },
      "source": [
        "# checking the mean squared error\r\n",
        "np.sqrt(np.mean(data_with_sent[\"pred\"][int(len(data_with_sent[\"ALXN\"])*0.8):] - y_test_sent)**2)"
      ],
      "execution_count": null,
      "outputs": [
        {
          "output_type": "execute_result",
          "data": {
            "text/plain": [
              "0.031162480710728285"
            ]
          },
          "metadata": {
            "tags": []
          },
          "execution_count": 0
        }
      ]
    },
    {
      "cell_type": "markdown",
      "metadata": {
        "id": "GA4mreLb2NMV"
      },
      "source": [
        "# 3 Neural network for the articles with title text"
      ]
    },
    {
      "cell_type": "code",
      "metadata": {
        "colab": {
          "background_save": true
        },
        "id": "2LFC1dmIdfJG",
        "outputId": "dbdac17b-0462-4a9e-d2d6-d018280d581a"
      },
      "source": [
        "# creating a sequential model\r\n",
        "model = Sequential()\r\n",
        "model.add(layers.LSTM(128, return_sequences=True, dropout=0.2, recurrent_dropout=0.2, input_shape = (61,100)))\r\n",
        "model.add(layers.LSTM(64, dropout=0.2, recurrent_dropout=0.2))\r\n",
        "model.add(layers.Dropout(0.5))\r\n",
        "model.add(layers.Dense(256, activation = \"relu\"))\r\n",
        "model.add(layers.Dense(128, activation = \"relu\"))\r\n",
        "model.add(layers.Dense(64, activation = \"relu\"))\r\n",
        "model.add(layers.Dropout(0.2))\r\n",
        "model.add(layers.Dense(1))"
      ],
      "execution_count": null,
      "outputs": [
        {
          "output_type": "stream",
          "text": [
            "WARNING:tensorflow:Layer lstm_2 will not use cuDNN kernel since it doesn't meet the cuDNN kernel criteria. It will use generic GPU kernel as fallback when running on GPU\n"
          ],
          "name": "stdout"
        },
        {
          "output_type": "stream",
          "text": [
            "WARNING:tensorflow:Layer lstm_2 will not use cuDNN kernel since it doesn't meet the cuDNN kernel criteria. It will use generic GPU kernel as fallback when running on GPU\n"
          ],
          "name": "stderr"
        },
        {
          "output_type": "stream",
          "text": [
            "WARNING:tensorflow:Layer lstm_3 will not use cuDNN kernel since it doesn't meet the cuDNN kernel criteria. It will use generic GPU kernel as fallback when running on GPU\n"
          ],
          "name": "stdout"
        },
        {
          "output_type": "stream",
          "text": [
            "WARNING:tensorflow:Layer lstm_3 will not use cuDNN kernel since it doesn't meet the cuDNN kernel criteria. It will use generic GPU kernel as fallback when running on GPU\n"
          ],
          "name": "stderr"
        }
      ]
    },
    {
      "cell_type": "code",
      "metadata": {
        "colab": {
          "background_save": true
        },
        "id": "ZGiLZ9pmdhmO"
      },
      "source": [
        "# defining early stopping with the patience of 1 period\r\n",
        "stop = EarlyStopping(monitor = \"loss\", patience = 1, mode = \"min\", restore_best_weights=True)\r\n",
        "# the same learning rate as for the first model - again caused by stability issues\r\n",
        "opt = optimizers.Adam(learning_rate=0.0001)"
      ],
      "execution_count": null,
      "outputs": []
    },
    {
      "cell_type": "code",
      "metadata": {
        "colab": {
          "background_save": true
        },
        "id": "xe0Gs0lfdjey"
      },
      "source": [
        "# compiling the model\r\n",
        "model.compile(loss='mean_squared_error', optimizer=opt)"
      ],
      "execution_count": null,
      "outputs": []
    },
    {
      "cell_type": "code",
      "metadata": {
        "id": "HRJLSQdWdlaF"
      },
      "source": [
        "# fitting the model to the data\r\n",
        "history = model.fit(X_train_titl, y_train_titl, epochs=50, batch_size=1, verbose=1, callbacks = [stop])"
      ],
      "execution_count": null,
      "outputs": []
    },
    {
      "cell_type": "code",
      "metadata": {
        "id": "AlwGIUW9doK6"
      },
      "source": [
        "# predicting the data\r\n",
        "y_pred = model.predict(X_test_titl)"
      ],
      "execution_count": null,
      "outputs": []
    },
    {
      "cell_type": "code",
      "metadata": {
        "id": "Y4dgLpqJdqUR"
      },
      "source": [
        "# filling a column with missing values and the predictions\r\n",
        "yf_df[\"pred\"] = np.nan\r\n",
        "yf_df[\"pred\"][int(len(yf_df[\"ALXN\"])*0.8):] = np.array(y_pred).squeeze(1)"
      ],
      "execution_count": null,
      "outputs": []
    },
    {
      "cell_type": "code",
      "metadata": {
        "id": "bDPyK1W_dszt"
      },
      "source": [
        "# plotting the predictions as an extension of the training data\r\n",
        "plt.figure(figsize=(12,8))\r\n",
        "plt.xticks(rotation=45,ticks=[0, int(len(yf_df)*0.2),int(len(yf_df)*0.4),int(len(yf_df)*0.6),int(len(yf_df)*0.8),int(len(yf_df))], labels = [yf_df.index[0],yf_df.index[int(len(yf_df)*0.2)],yf_df.index[int(len(yf_df)*0.4)],yf_df.index[int(len(yf_df)*0.6)],yf_df.index[int(len(yf_df)*0.8)], yf_df.index[-1]])\r\n",
        "plt.plot(yf_df.ALXN[:int(len(yf_df[\"ALXN\"])*0.8)], color = \"b\")\r\n",
        "plt.plot(yf_df[\"pred\"][int(len(yf_df[\"ALXN\"])*0.8):], color = \"c\")\r\n",
        "plt.legend(['Train','Predictions'], loc='upper_center')\r\n",
        "plt.show()"
      ],
      "execution_count": null,
      "outputs": []
    },
    {
      "cell_type": "code",
      "metadata": {
        "id": "6buWu2KWdurW"
      },
      "source": [
        "# plotting the predictions against the test data\r\n",
        "plt.figure(figsize=(12,8))\r\n",
        "plt.xticks(rotation=45,ticks=[0, int(len(y_test_titl)*0.2),int(len(y_test_titl)*0.4),int(len(y_test_titl)*0.6),int(len(y_test_titl)*0.8),int(len(y_test_titl))], labels = [y_test_titl.index[0],y_test_titl.index[int(len(y_test_titl)*0.2)],y_test_titl.index[int(len(y_test_titl)*0.4)],y_test_titl.index[int(len(y_test_titl)*0.6)],y_test_titl.index[int(len(y_test_titl)*0.8)], y_test_titl.index[-1]])\r\n",
        "plt.plot(y_test_titl, color = \"b\")\r\n",
        "plt.plot(yf_df[\"pred\"][int(len(yf_df[\"ALXN\"])*0.8):], color = \"c\")\r\n",
        "plt.legend(['Test','Predictions'], loc='upper_center')\r\n",
        "plt.show()"
      ],
      "execution_count": null,
      "outputs": []
    },
    {
      "cell_type": "code",
      "metadata": {
        "id": "t7DXmuundwT1"
      },
      "source": [
        "# checking the mean squared error\r\n",
        "np.sqrt(np.mean(yf_df[\"pred\"][int(len(data_with_sent[\"ALXN\"])*0.8):] - y_test_titl)**2)"
      ],
      "execution_count": null,
      "outputs": []
    }
  ]
}